{
 "cells": [
  {
   "cell_type": "code",
   "execution_count": 305,
   "id": "46031e2c-2127-4a55-ad75-5016dee52fc5",
   "metadata": {},
   "outputs": [],
   "source": [
    "import json\n",
    "import jieba\n",
    "import pandas as pd\n",
    "import jieba.analyse as analyse\n",
    "from sklearn.feature_extraction.text import TfidfVectorizer\n",
    "with open('questions.json', 'r', encoding='UTF-8') as f:\n",
    "    JsonList = json.load(f)"
   ]
  },
  {
   "cell_type": "code",
   "execution_count": 306,
   "id": "5cbfb6ad-bc14-4bac-95f9-21f0549d28b1",
   "metadata": {},
   "outputs": [],
   "source": [
    "with open('word_count.json', 'r', encoding='UTF-8') as f:\n",
    "    word_count = json.load(f)"
   ]
  },
  {
   "cell_type": "code",
   "execution_count": 307,
   "id": "6cc9f98d-59f9-4f29-80fe-d2df37e3ae2e",
   "metadata": {},
   "outputs": [],
   "source": [
    "# !pip install jieba"
   ]
  },
  {
   "cell_type": "code",
   "execution_count": 308,
   "id": "0b5927ba-bcf9-45d7-a65e-89610ce2163f",
   "metadata": {},
   "outputs": [],
   "source": [
    "key_list = []\n",
    "value_list = []\n",
    "for key, value in word_count.items():\n",
    "    if (len(key) > 1):\n",
    "        key_list += [key]\n",
    "        value_list += [value]"
   ]
  },
  {
   "cell_type": "code",
   "execution_count": 309,
   "id": "6a8f2da4-219b-45ae-b53c-5862c5e454f2",
   "metadata": {},
   "outputs": [],
   "source": [
    "with open(\"dictionay.txt\", 'w', encoding='UTF-8') as output:\n",
    "    for key, value_list in zip(key_list, value_list):\n",
    "        output.write(str(key)+ \" \"+str(value) + '\\n')"
   ]
  },
  {
   "cell_type": "code",
   "execution_count": 310,
   "id": "7125c853-31e1-4b56-82db-349f94681e92",
   "metadata": {},
   "outputs": [
    {
     "name": "stderr",
     "output_type": "stream",
     "text": [
      "Building prefix dict from C:\\Users\\User\\Desktop\\高等資料探勘與\\QA\\dict.txt.big ...\n",
      "Loading model from cache C:\\Users\\User\\AppData\\Local\\Temp\\jieba.uc990c0259fc371505fc2d1bd2dd899bc.cache\n",
      "Loading model cost 1.976 seconds.\n",
      "Prefix dict has been built successfully.\n"
     ]
    }
   ],
   "source": [
    "jieba.set_dictionary('dict.txt.big')\n",
    "jieba.load_userdict(\"dictionay.txt\")"
   ]
  },
  {
   "cell_type": "code",
   "execution_count": 311,
   "id": "c8769cc2-ecb1-43e9-8000-4ee13c4e1c39",
   "metadata": {},
   "outputs": [],
   "source": [
    "def conver_txt2pair(line):\n",
    "    key_str_idx = line.find('\\'', 0)\n",
    "    key_end_idx = line.find('\\'', key_str_idx + 1)\n",
    "    value_str_idx = line.find('{', 0)\n",
    "    value_end_idx = line.find('}', 0)\n",
    "    # print(key_str_idx,key_end_idx)\n",
    "    key = line[key_str_idx + 1: key_end_idx]\n",
    "    value = line[value_str_idx + 1: value_end_idx].split(',')\n",
    "    value = [int(i) for i in value]\n",
    "    value = set(value)\n",
    "    return key, value"
   ]
  },
  {
   "cell_type": "code",
   "execution_count": 312,
   "id": "3fd3bfdf-9d14-47e4-a96b-a03d63f00a25",
   "metadata": {},
   "outputs": [
    {
     "name": "stdout",
     "output_type": "stream",
     "text": [
      "Read: ./tmpvebz2qsd\\part-00000\n",
      "Read: ./tmpvebz2qsd\\part-00001\n",
      "Read: ./tmpvebz2qsd\\part-00002\n",
      "Read: ./tmpvebz2qsd\\part-00003\n",
      "Read: ./tmpvebz2qsd\\part-00004\n",
      "Read: ./tmpvebz2qsd\\part-00005\n",
      "Read: ./tmpvebz2qsd\\part-00006\n",
      "Read: ./tmpvebz2qsd\\part-00007\n",
      "Read: ./tmpvebz2qsd\\part-00008\n",
      "Read: ./tmpvebz2qsd\\part-00009\n",
      "Read: ./tmpvebz2qsd\\part-00010\n",
      "Read: ./tmpvebz2qsd\\part-00011\n",
      "Read: ./tmpvebz2qsd\\part-00012\n",
      "Read: ./tmpvebz2qsd\\part-00013\n",
      "Read: ./tmpvebz2qsd\\part-00014\n",
      "Read: ./tmpvebz2qsd\\part-00015\n",
      "Read: ./tmpvebz2qsd\\part-00016\n",
      "Read: ./tmpvebz2qsd\\part-00017\n",
      "Read: ./tmpvebz2qsd\\part-00018\n",
      "Read: ./tmpvebz2qsd\\part-00019\n",
      "Read: ./tmpvebz2qsd\\part-00020\n",
      "Read: ./tmpvebz2qsd\\part-00021\n",
      "Read: ./tmpvebz2qsd\\part-00022\n",
      "Read: ./tmpvebz2qsd\\part-00023\n",
      "Read: ./tmpvebz2qsd\\part-00024\n",
      "Read: ./tmpvebz2qsd\\part-00025\n",
      "Read: ./tmpvebz2qsd\\part-00026\n",
      "Read: ./tmpvebz2qsd\\part-00027\n",
      "Read: ./tmpvebz2qsd\\part-00028\n",
      "Read: ./tmpvebz2qsd\\part-00029\n",
      "Read: ./tmpvebz2qsd\\part-00030\n",
      "Read: ./tmpvebz2qsd\\part-00031\n"
     ]
    }
   ],
   "source": [
    "import glob\n",
    "\n",
    "file_paths = glob.glob('./tmpvebz2qsd/*')\n",
    "keywords_dict = dict()\n",
    "for file_path in file_paths:\n",
    "    print(\"Read:\",file_path)\n",
    "    with open(file_path, encoding=\"utf-8\") as f:\n",
    "        lines = f.readlines()\n",
    "       \n",
    "        for line in lines:\n",
    "            key, value = conver_txt2pair(line)\n",
    "            keywords_dict[key] = value"
   ]
  },
  {
   "cell_type": "code",
   "execution_count": 313,
   "id": "d91cf4c6-948a-4a60-89d8-46510f09514d",
   "metadata": {},
   "outputs": [],
   "source": [
    "def cal_corelation(keywords_dict, seg_list, answer_words):\n",
    "    \n",
    "    return setence_coappear"
   ]
  },
  {
   "cell_type": "code",
   "execution_count": 314,
   "id": "bfe0a7bc-55a8-4189-a5a3-f9c49249dcbf",
   "metadata": {},
   "outputs": [
    {
     "name": "stdout",
     "output_type": "stream",
     "text": [
      "官方稱以色列國，是在位於西亞的主權國家，坐落於地中海東南岸及紅海亞喀巴灣北岸，北靠黎巴嫩，東北鄰敘利亞，東與約旦接壤，巴勒斯坦領土的約旦河西岸地區和加薩走廊各居東西，西南則為埃及。\n",
      "A: 西班牙 B: 以色列 C: 孟加拉\n",
      "B\n",
      "簡稱臺大，前身為日治時期1928年創立的臺北帝國大學，由首任校長幣原坦籌設，原初只定位為醫學和農學的實業大學，由時任總督伊澤多喜男改為籌設成綜合大學之目標。臺北帝國大學在二次大戰後二次改名，1945年11月易名為國立臺北大學，同年12月15日啟用現名國立臺灣大學，以自由主義學風著稱，是臺灣第一所現代綜合大學。\n",
      "A: 國立高雄大學 B: 國立台南大學 C: 國立臺灣大學\n",
      "C\n",
      "簡稱雲或滇，是中華人民共和國西南部邊疆地區的一個省份，省會昆明。雲南是人類重要的發祥地之一，生活在距今170萬年前的雲南元謀猿人，是迄今為止發現的中國乃至亞洲最早的人類。戰國時期，這裡是滇族部落的生息之地。\n",
      "A: 魁北克省 B: 雲南省 C: 安大略省\n",
      "B\n",
      "或稱「高地綜合症、高山反應、高原反應」，是人體在高海拔狀態由於氧氣濃度降低而出現的急性病理變化表現。它通常出現在海拔2438公尺以上。可以發展成肺水腫和腦水腫，嚴重時可致死。\n",
      "A: 亞斯伯格症 B: 高山症 C: 憂鬱症\n",
      "B\n",
      "是日本戰國時代的大名及江戶幕府第一任征夷大將軍，全名德川次郎三郎源朝臣家康，為日本於1598年至1616年的實際元首，與其同時代的織田信長、豐臣秀吉並稱「戰國三傑」。\n",
      "A: 德川家康 B: 小笠原道大 C: 村上春樹\n",
      "A\n",
      "是中華人民共和國西南地區的一個省份，省會成都市。四川簡稱川或蜀，又因先秦時四川曾分屬巴國、蜀國兩諸侯國，故別稱「巴蜀」。四川歷史悠久、風光秀麗、物產豐富，自古被譽為「天府之國」。\n",
      "A: 四川省 B: 遼寧省 C: 河北省\n",
      "A\n",
      "哪個國家最大的三個城市分別為阿姆斯特丹、鹿特丹與海牙。阿姆斯特丹是憲法確定的正式首都，然而，政府、國王的王宮和大多數使館都位於海牙。此外，國際法庭也設在海牙。鹿特丹港，位於鹿特丹，為全世界進出量第八的大型港口。\n",
      "A: 捷克共和國 B: 澳大利亞 C: 荷蘭\n",
      "C\n",
      "著名臺灣導演，知名作品包括推手，飲食男女，斷背山，囍宴，理性與感性，冰風暴，臥虎藏龍，色戒，少年Pi的奇幻漂流等等\n",
      "A: 李安 B: 陳安 C: 王安\n",
      "A\n",
      "屬於印歐語系義大利語族。是最早在拉提姆地區（今義大利的拉齊奧區）和羅馬帝國使用。雖然現在通常被認為是一種死語言，但仍有少數基督宗教神職人員及學者可以流利使用。羅馬天主教傳統上用作為正式會議的語言和禮拜儀式用的語言。此外，許多西方國家的大學仍然提供有關課程。\n",
      "A: 拉丁語 B: 日語 C: 韓語\n",
      "A\n",
      "是一家總部位於芬蘭埃斯波主要從事生產行動通訊設備和服務的跨國公司，成立於1865年，當時以伐木、造紙為主，目前以通信基礎業務和先進技術研發及授權為主。消費者端行動通訊設備部門則售予微軟公司，其後再度授權Nokia品牌予富士康及HMD進行生產製造。\n",
      "A: 三星 B: 諾基亞 C: 宏達電\n",
      "A\n",
      "西非國家，位於非洲的幾內亞灣西岸頂點，鄰國包括西邊的貝南，北邊的尼日，東北方與查德接壤一小段國界，正東則是喀麥隆。是全非洲人口最多的國家，首都原本為西南沿海的海港城市拉哥斯，1991年12月遷都至地理位置位居全國國土正中央的阿布札。\n",
      "A: 瑞士 B: 奈及利亞 C: 奧地利\n",
      "A\n",
      "是一個位於美國夏威夷州歐胡島上的海港，位於該州首府檀香山西方。與鄰近島嶼上大部分的設施都屬於美國海軍所有，作為深水軍港使用，也是美國海軍太平洋艦隊的總部所在地。1941年12月7日曾遭日軍突襲轟炸造成重大傷亡，史稱「珍珠港事件」。此事件直接導致美國對日宣戰，正式加入第二次世界大戰中太平洋戰場部分的戰事。\n",
      "A: 北港 B: 珍珠港 C: 高雄港\n",
      "B\n",
      "是世界上最大的半導體公司，也是第一家推出x86架構處理器的公司，總部位於美國加利福尼亞州聖克拉拉。由羅伯特·諾伊斯、高登·摩爾、安迪·葛洛夫，以「整合電子」（Integrated Electronics）之名在1968年7月18日共同創辦公司，將高階晶片設計能力與領導業界的製造能力結合在一起。英特爾也有開發主機板晶片組、網路卡、快閃記憶體、繪圖晶片、嵌入式處理器，與對通訊與運算相關的產品等。\n",
      "A: 諾貝爾 B: 英特爾 C: 戴爾\n",
      "B\n",
      "是位於以色列中部的都市，位於地中海和死海之間。同時是猶太教、基督教和伊斯蘭教三大亞伯拉罕宗教（或稱「三大天啟宗教」）的聖地\n",
      "A: 耶誕老公公 B: 耶誕節 C: 耶路撒冷\n",
      "C\n",
      "濱臨東地中海，以此為中心的但城鎮群有巴特亞姆、霍隆、拉馬特甘、佩塔提克瓦、里雄萊錫安、拉馬特沙龍、赫茲利亞等城市。2005年統計，有人口304萬，是以色列最大的都會區，是該國人口最稠密的地帶，也是以色列的經濟樞紐。特拉維夫被認為已出現了成為世界級城市的趨勢，並被列為中東生活費用最昂貴的大城市。\n",
      "A: 特拉維夫 B: 葛雷夫 C: 歐拉夫\n",
      "A\n",
      "位於太平洋西南部的一個島嶼國家，首都為威靈頓，但最大的城市為奧克蘭都會區。紐西蘭主要由兩大島嶼組成，即北島和南島，兩島以庫克海峽分隔，首都威靈頓即位於北島末端處，除此之外還包含了一些其他小的島嶼。\n",
      "A: 紐西蘭 B: 加拿大 C: 印度\n",
      "A\n",
      "又稱廣東話、廣州話，兩廣當地人慣稱「白話」，海外華人則稱為「唐話」，是屬於漢藏語系漢語族的聲調語言之一，主要使用於廣東、香港、澳門及廣西、海南等地。在中國境內中僅次於以北方官話和吳語為母語的人數。\n",
      "A: 日語 B: 粵語 C: 德語\n",
      "B\n",
      "是一個由主權國家組成的國際組織，致力於促進各國在國際法、國際安全、經濟發展、社會進步、人權、公民自由、政治自由、民主及實現持久世界和平方面的合作。成立於第二次世界大戰結束後的1945年，取代國際聯盟以阻止戰爭並為各國提供對話平臺。\n",
      "A: 世界貿易組織 B: 聯合國 C: 世界衛生組織\n",
      "A\n",
      "是美國加利福尼亞州北部的一座都市，以其涼爽的夏季、多霧、綿延的丘陵地形、混合的建築風格，和金門大橋、纜車、惡魔島監獄及中國城等景點聞名。此外也是五大主要銀行和許多大型公司、機構的總部所在，包括GAP、太平洋瓦電公司、Yelp、Pinterest、Twitter、優步、Mozilla和Craigslist等。\n",
      "A: 馬尼拉 B: 首爾 C: 舊金山\n",
      "C\n",
      "是一座位於歐洲中心的山脈，它覆蓋了義大利北部邊界、法國東南部、瑞士、列支敦斯登、奧地利、德國南部及斯洛維尼亞。它可以被細分為三個部分，從地中海到白朗峰的西阿爾卑斯山，從奧斯特谷（義大利西北部一自治區）到布勒內山口（奧地利和義大利交界處）的中阿爾卑斯山，從布勒內山口到斯洛維尼亞的東阿爾卑斯山。\n",
      "A: 八卦山 B: 阿爾卑斯山 C: 合歡山\n",
      "B\n",
      "動漫刀劍神域中，主角的絕招是?\n",
      "A: 九陰白骨爪 B: 降龍十八掌 C: 星爆氣流斬\n",
      "C\n",
      "UDP提供資料的哪種傳遞?\n",
      "A: 測不準 B: 可靠 C: 不可靠\n",
      "B\n",
      "有著「鼻地大師」、「瘋狗動」等稱呼的遊戲實況主為?\n",
      "A: 統神 B: 史丹利 C: 國動\n",
      "C\n",
      "安史之亂是誰發起的?\n",
      "A: 安祿山與史思明 B: 安心亞與史丹利 C: 安心亞與史迪奇\n",
      "A\n",
      "是伏見司寫作、神崎廣繪製插畫的日本輕小說作品，屬於電擊文庫，由KADOKAWA出版發行。劇情內容高中生兼輕小說作家和泉正宗有個家裡蹲的妹妹和泉紗霧，兩人一年前才成為兄妹，可是紗霧完全不走出房間。正宗除了每天都幫紗霧準備食物，還天天在想辦法讓她走出房間。本作是一部以兄妹為側重點，以作家與插畫家的夢想為軸心的戀愛喜劇作品。現實的輕小説作品的登場是本作的主要特徵之一\n",
      "A: 情色漫畫老師 B: 色情大師 C: 鬼父\n",
      "A\n"
     ]
    }
   ],
   "source": [
    "options = [\"A\", \"B\", \"C\"]\n",
    "my_answers = []\n",
    "for row in JsonList:\n",
    "    # row = JsonList[17]\n",
    "    print(row['Question'])\n",
    "    print(\"A:\", row['A'], end=\" \")\n",
    "    print(\"B:\", row['B'], end=\" \")\n",
    "    print(\"C:\", row['C'])\n",
    "    ## 切字\n",
    "    # seg_list = jieba.cut(row['Question'], cut_all=False, HMM=False)\n",
    "    seg_list = jieba.analyse.extract_tags(row['Question'], topK=20, withWeight=False)\n",
    "    # seg_list = [i for i in seg_list if len(i) > 1 ]\n",
    "    # print(seg_list)\n",
    "    \n",
    "    ## 取得每個選項的出現次數\n",
    "    word_counts = [word_count.get(row[answer], 0)  for answer in options]\n",
    "    print(word_counts)\n",
    "    max_coappear = 0\n",
    "    max_answer = 'B'\n",
    "    \n",
    "    cal_corelation(keywords_dict, seg_list, answer_words)\n",
    "    # 搜尋所有解答\n",
    "    for option in options:\n",
    "        setence_coappear = 0\n",
    "        # 將 answer 切開來\n",
    "        # answer_words = jieba.cut(row['Question'], cut_all=False, HMM=False)\n",
    "        \n",
    "        # seg_list = jieba.cut(row[answer], cut_all=True)\n",
    "        \n",
    "        if row[answer] not in keywords_dict:\n",
    "            answer_words = [row[answer][i: j] for i in range(len(row[answer])) for j in range(i + 1, len(row[answer]) + 1)]\n",
    "        else:\n",
    "            answer_words = jieba.cut_for_search(row[answer])\n",
    "            answer_words = [i for i in answer_words]\n",
    "            \n",
    "        if row[answer] not in answer_words:\n",
    "            answer_words = [row[answer]] \n",
    "                \n",
    "        # print(answer_words)\n",
    "        for answer_word in answer_words:\n",
    "            \n",
    "            # 如果有在dictionary裡面\n",
    "            if answer_word in keywords_dict:\n",
    "                answer_appears = keywords_dict[answer_word]\n",
    "\n",
    "                for seg in seg_list:\n",
    "                    #　找出所有題目關鍵字出現的文章\n",
    "                    if seg in keywords_dict:\n",
    "                        #print(seg,end= \" \" )\n",
    "                        problem_appears = keywords_dict[seg]\n",
    "                        # 交集/聯集\n",
    "                        seg_coappear = len(answer_appears & problem_appears)/ len(answer_appears | problem_appears)\n",
    "\n",
    "                        # 除以幾個 answers_words\n",
    "                        seg_coappear = seg_coappear/ len(answer_words)\n",
    "\n",
    "                        if answer_word == row[answer]:\n",
    "                            seg_coappear *= 2\n",
    "                            \n",
    "                        setence_coappear += seg_coappear\n",
    "                \n",
    "        # print(setence_coappear)\n",
    "        if setence_coappear > max_coappear:\n",
    "            max_answer = answer\n",
    "            max_coappear = setence_coappear\n",
    "\n",
    "    print(max_answer)\n",
    "    my_answers += [max_answer]"
   ]
  },
  {
   "cell_type": "markdown",
   "id": "8daaedf0-feed-4fa9-8a79-584102651f2a",
   "metadata": {},
   "source": [
    "# 存檔"
   ]
  },
  {
   "cell_type": "code",
   "execution_count": 315,
   "id": "f536644a-55b2-4477-8c9c-76f630e21ca1",
   "metadata": {},
   "outputs": [
    {
     "name": "stdout",
     "output_type": "stream",
     "text": [
      "save\n"
     ]
    }
   ],
   "source": [
    "import json\n",
    "with open(\"my_answer.json\", \"w\",encoding=\"utf-8\") as f:\n",
    "    json.dump(my_answers, f)\n",
    "    print(\"save\")"
   ]
  },
  {
   "cell_type": "markdown",
   "id": "975f845e-f016-4d0a-8035-6008489ed5ce",
   "metadata": {},
   "source": [
    "# 錯誤分析"
   ]
  },
  {
   "cell_type": "code",
   "execution_count": 316,
   "id": "5677e987-6b64-4e49-abb6-a36942307b22",
   "metadata": {},
   "outputs": [],
   "source": [
    "ANSWERS = [\"B\", \"C\", \"B\",\"B\",\"A\",\"A\",\"C\",\"A\",\"A\",\"B\",\"B\",\"B\",\"B\",\"C\",\"A\",\"A\",\"B\",\"B\",\"C\",\"B\",\"C\",\"C\",\"B\", \"A\", \"A\"]"
   ]
  },
  {
   "cell_type": "code",
   "execution_count": 317,
   "id": "03bfac35-dbc5-46d2-b0d0-f083d3a7f542",
   "metadata": {},
   "outputs": [],
   "source": [
    "def compare_two_question(json_1, json_2):\n",
    "    with open(json_1, 'r', encoding='UTF-8') as f:\n",
    "        answers_1 = json.load(f)\n",
    "    with open(json_2, 'r', encoding='UTF-8') as f:\n",
    "        answers_2 = json.load(f)\n",
    "        \n",
    "        \n",
    "    for i in range(len(answers_1)):\n",
    "        if answers_1[i] != answers_2[i]:\n",
    "            row = JsonList[i]\n",
    "            print(\"index:\", i)\n",
    "            print(row[\"Question\"])\n",
    "            print(\"(A) \"+row[\"A\"]+\" (B) \"+row[\"B\"] + \" (C) \"+row[\"C\"])\n",
    "            \n",
    "    need_update_answers = answers_1\n",
    "    return need_update_answers\n",
    "\n",
    "def update_answers(need_update_answers, index, answer):\n",
    "    need_update_answers[i] = answer\n",
    "    row = JsonList[index]\n",
    "    print(\"index:\", index)\n",
    "    print(row[\"Question\"])\n",
    "    print(\"Update: \"+answer)\n",
    "    \n",
    "def save_answer_json(save_json, save_path):\n",
    "    with open(save_path, \"w\",encoding=\"utf-8\") as f:\n",
    "        json.dump(save_json, f)\n",
    "        print(\"save to: \" + save_path)"
   ]
  },
  {
   "cell_type": "code",
   "execution_count": 318,
   "id": "fc7c2959-38e3-4aa9-8792-9a4f00202ea2",
   "metadata": {},
   "outputs": [
    {
     "name": "stdout",
     "output_type": "stream",
     "text": [
      "index: 0\n",
      "官方稱以色列國，是在位於西亞的主權國家，坐落於地中海東南岸及紅海亞喀巴灣北岸，北靠黎巴嫩，東北鄰敘利亞，東與約旦接壤，巴勒斯坦領土的約旦河西岸地區和加薩走廊各居東西，西南則為埃及。\n",
      "(A) 西班牙 (B) 以色列 (C) 孟加拉\n",
      "index: 1\n",
      "簡稱臺大，前身為日治時期1928年創立的臺北帝國大學，由首任校長幣原坦籌設，原初只定位為醫學和農學的實業大學，由時任總督伊澤多喜男改為籌設成綜合大學之目標。臺北帝國大學在二次大戰後二次改名，1945年11月易名為國立臺北大學，同年12月15日啟用現名國立臺灣大學，以自由主義學風著稱，是臺灣第一所現代綜合大學。\n",
      "(A) 國立高雄大學 (B) 國立台南大學 (C) 國立臺灣大學\n",
      "index: 6\n",
      "哪個國家最大的三個城市分別為阿姆斯特丹、鹿特丹與海牙。阿姆斯特丹是憲法確定的正式首都，然而，政府、國王的王宮和大多數使館都位於海牙。此外，國際法庭也設在海牙。鹿特丹港，位於鹿特丹，為全世界進出量第八的大型港口。\n",
      "(A) 捷克共和國 (B) 澳大利亞 (C) 荷蘭\n",
      "index: 11\n",
      "是一個位於美國夏威夷州歐胡島上的海港，位於該州首府檀香山西方。與鄰近島嶼上大部分的設施都屬於美國海軍所有，作為深水軍港使用，也是美國海軍太平洋艦隊的總部所在地。1941年12月7日曾遭日軍突襲轟炸造成重大傷亡，史稱「珍珠港事件」。此事件直接導致美國對日宣戰，正式加入第二次世界大戰中太平洋戰場部分的戰事。\n",
      "(A) 北港 (B) 珍珠港 (C) 高雄港\n",
      "index: 12\n",
      "是世界上最大的半導體公司，也是第一家推出x86架構處理器的公司，總部位於美國加利福尼亞州聖克拉拉。由羅伯特·諾伊斯、高登·摩爾、安迪·葛洛夫，以「整合電子」（Integrated Electronics）之名在1968年7月18日共同創辦公司，將高階晶片設計能力與領導業界的製造能力結合在一起。英特爾也有開發主機板晶片組、網路卡、快閃記憶體、繪圖晶片、嵌入式處理器，與對通訊與運算相關的產品等。\n",
      "(A) 諾貝爾 (B) 英特爾 (C) 戴爾\n",
      "index: 15\n",
      "位於太平洋西南部的一個島嶼國家，首都為威靈頓，但最大的城市為奧克蘭都會區。紐西蘭主要由兩大島嶼組成，即北島和南島，兩島以庫克海峽分隔，首都威靈頓即位於北島末端處，除此之外還包含了一些其他小的島嶼。\n",
      "(A) 紐西蘭 (B) 加拿大 (C) 印度\n",
      "index: 16\n",
      "又稱廣東話、廣州話，兩廣當地人慣稱「白話」，海外華人則稱為「唐話」，是屬於漢藏語系漢語族的聲調語言之一，主要使用於廣東、香港、澳門及廣西、海南等地。在中國境內中僅次於以北方官話和吳語為母語的人數。\n",
      "(A) 日語 (B) 粵語 (C) 德語\n",
      "index: 17\n",
      "是一個由主權國家組成的國際組織，致力於促進各國在國際法、國際安全、經濟發展、社會進步、人權、公民自由、政治自由、民主及實現持久世界和平方面的合作。成立於第二次世界大戰結束後的1945年，取代國際聯盟以阻止戰爭並為各國提供對話平臺。\n",
      "(A) 世界貿易組織 (B) 聯合國 (C) 世界衛生組織\n",
      "index: 19\n",
      "是一座位於歐洲中心的山脈，它覆蓋了義大利北部邊界、法國東南部、瑞士、列支敦斯登、奧地利、德國南部及斯洛維尼亞。它可以被細分為三個部分，從地中海到白朗峰的西阿爾卑斯山，從奧斯特谷（義大利西北部一自治區）到布勒內山口（奧地利和義大利交界處）的中阿爾卑斯山，從布勒內山口到斯洛維尼亞的東阿爾卑斯山。\n",
      "(A) 八卦山 (B) 阿爾卑斯山 (C) 合歡山\n",
      "index: 20\n",
      "動漫刀劍神域中，主角的絕招是?\n",
      "(A) 九陰白骨爪 (B) 降龍十八掌 (C) 星爆氣流斬\n",
      "index: 22\n",
      "有著「鼻地大師」、「瘋狗動」等稱呼的遊戲實況主為?\n",
      "(A) 統神 (B) 史丹利 (C) 國動\n",
      "index: 23\n",
      "安史之亂是誰發起的?\n",
      "(A) 安祿山與史思明 (B) 安心亞與史丹利 (C) 安心亞與史迪奇\n"
     ]
    }
   ],
   "source": [
    "need_update_answers = compare_two_question(\"my_answer_2.json\",\"my_answer.json\")"
   ]
  },
  {
   "cell_type": "code",
   "execution_count": 319,
   "id": "b10a21b3-0831-4093-9d39-181e1c0e5ecd",
   "metadata": {},
   "outputs": [
    {
     "name": "stdout",
     "output_type": "stream",
     "text": [
      "index: 1\n",
      "簡稱臺大，前身為日治時期1928年創立的臺北帝國大學，由首任校長幣原坦籌設，原初只定位為醫學和農學的實業大學，由時任總督伊澤多喜男改為籌設成綜合大學之目標。臺北帝國大學在二次大戰後二次改名，1945年11月易名為國立臺北大學，同年12月15日啟用現名國立臺灣大學，以自由主義學風著稱，是臺灣第一所現代綜合大學。\n",
      "Update: C\n",
      "index: 2\n",
      "簡稱雲或滇，是中華人民共和國西南部邊疆地區的一個省份，省會昆明。雲南是人類重要的發祥地之一，生活在距今170萬年前的雲南元謀猿人，是迄今為止發現的中國乃至亞洲最早的人類。戰國時期，這裡是滇族部落的生息之地。\n",
      "Update: B\n",
      "save to: my_answer_update.json\n"
     ]
    }
   ],
   "source": [
    "update_answers(need_update_answers, 1, \"C\")\n",
    "update_answers(need_update_answers, 2, \"B\")\n",
    "save_answer_json(need_update_answers,\"my_answer_update.json\")"
   ]
  },
  {
   "cell_type": "code",
   "execution_count": null,
   "id": "e62bc5ed-87f7-45de-9e6e-cd8d86c00cca",
   "metadata": {},
   "outputs": [],
   "source": []
  }
 ],
 "metadata": {
  "kernelspec": {
   "display_name": "final_project",
   "language": "python",
   "name": "final_project"
  },
  "language_info": {
   "codemirror_mode": {
    "name": "ipython",
    "version": 3
   },
   "file_extension": ".py",
   "mimetype": "text/x-python",
   "name": "python",
   "nbconvert_exporter": "python",
   "pygments_lexer": "ipython3",
   "version": "3.9.7"
  }
 },
 "nbformat": 4,
 "nbformat_minor": 5
}
